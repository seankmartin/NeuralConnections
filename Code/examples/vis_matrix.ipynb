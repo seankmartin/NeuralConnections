{
 "cells": [
  {
   "cell_type": "code",
   "execution_count": null,
   "metadata": {},
   "outputs": [],
   "source": [
    "import myterial\n",
    "import numpy as np\n",
    "import matplotlib.pyplot as plt\n",
    "from collections import OrderedDict\n",
    "\n",
    "from neuroconnect.matrix import (\n",
    "    convert_mouse_data,\n",
    "    load_matrix_data,\n",
    "    print_args_dict,\n",
    "    matrix_vis,\n",
    "    mpf_probe_connectome,\n",
    ")\n",
    "from neuroconnect.atlas import (\n",
    "    place_probes_at_com,\n",
    "    get_brain_region_meshes,\n",
    "    get_n_random_points_in_region,\n",
    "    get_idx_of_points_in_meshes,\n",
    ")\n",
    "from neuroconnect.connect_math import (\n",
    "    get_dist_mean,\n",
    "    get_dist_var,\n",
    "    discretised_rv,\n",
    "    new_dist_upper_bound,\n",
    ")\n",
    "from scipy.stats import truncexpon\n"
   ]
  },
  {
   "cell_type": "code",
   "execution_count": null,
   "metadata": {},
   "outputs": [],
   "source": [
    "A_name = \"MOp\"\n",
    "B_name = \"SSp-ll\"\n",
    "\n",
    "vis_full = False\n",
    "hemisphere = \"right\"\n",
    "block_size_sub = 10"
   ]
  },
  {
   "cell_type": "code",
   "execution_count": null,
   "metadata": {},
   "outputs": [],
   "source": [
    "# Load in mouse data\n",
    "convert_mouse_data(A_name, B_name)\n",
    "to_use = [True] * 4\n",
    "mc, args_dict = load_matrix_data(to_use, A_name, B_name)\n",
    "print(f\"{A_name} - {B_name}, {mc.num_a} - {mc.num_b}\")\n",
    "\n",
    "result = {\"matrix_stats\": print_args_dict(args_dict, out=False)}\n",
    "region_sizes = [mc.num_a, mc.num_b]\n",
    "print(result)"
   ]
  },
  {
   "cell_type": "code",
   "execution_count": null,
   "metadata": {},
   "outputs": [],
   "source": [
    "stats = mc.compute_stats()\n",
    "print(stats)\n",
    "\n",
    "mc_dist = stats[\"out_connections_dist\"]\n",
    "plt.plot(list(mc_dist.keys()), list(mc_dist.values()))\n",
    "print(get_dist_mean(mc_dist))"
   ]
  },
  {
   "cell_type": "code",
   "execution_count": null,
   "metadata": {},
   "outputs": [],
   "source": [
    "from skm_pyutils.table import list_to_df\n",
    "new_dist = new_dist_upper_bound(mc_dist, 400)\n",
    "plt.plot(list(new_dist.keys()), list(new_dist.values()),)\n",
    "l = [[k, v] for k, v in new_dist.items()]\n",
    "df = list_to_df(l, [\"Outgoing connections\", \"Probability\"])\n",
    "print(df)"
   ]
  },
  {
   "cell_type": "code",
   "execution_count": null,
   "metadata": {},
   "outputs": [],
   "source": [
    "# Place a probe into the brain\n",
    "cylinder = place_probes_at_com(\n",
    "    [A_name, B_name],\n",
    "    hemisphere=hemisphere,\n",
    "    colors=[myterial.blue_dark, myterial.pink_darker, myterial.deep_purple_darker],\n",
    "    style=\"cartoon\",\n",
    "    interactive=False,\n",
    "    probe_kwargs=dict(top_scale=0.95, angles_top=[0, 0, 3], angles_bottom=[0, 0, -2])\n",
    ")"
   ]
  },
  {
   "cell_type": "code",
   "execution_count": null,
   "metadata": {},
   "outputs": [],
   "source": [
    "if vis_full:\n",
    "    o_name = f\"mc_mat_vis_{A_name}_to_{B_name}.pdf\"\n",
    "    print(\"Plotting full matrix vis\")\n",
    "    matrix_vis(mc.ab, mc.ba, mc.aa, mc.bb, 150, name=o_name)\n"
   ]
  },
  {
   "cell_type": "code",
   "execution_count": null,
   "metadata": {},
   "outputs": [],
   "source": [
    "import time\n",
    "\n",
    "\n",
    "brain_region_meshes = get_brain_region_meshes(\n",
    "    [A_name, B_name], None, hemisphere=hemisphere\n",
    ")\n",
    "\n",
    "t = time.perf_counter()\n",
    "print(\"Placing cells in device\")\n",
    "region_pts = []\n",
    "for region_mesh, region_size in zip(brain_region_meshes, region_sizes):\n",
    "    pts = get_n_random_points_in_region(region_mesh, region_size, sort_=True)\n",
    "    meshes = [cylinder]\n",
    "    pts_idxs = np.sort(get_idx_of_points_in_meshes(pts, meshes))\n",
    "    pts = pts[pts_idxs]\n",
    "    region_pts.append((pts, pts_idxs))\n",
    "t2 = time.perf_counter() - t\n",
    "print(f\"Finished cells creation in {t2:.2f}s\")\n"
   ]
  },
  {
   "cell_type": "code",
   "execution_count": null,
   "metadata": {},
   "outputs": [],
   "source": [
    "a_indices = region_pts[0][1]\n",
    "b_indices = region_pts[1][1]\n",
    "\n",
    "t = time.perf_counter()\n",
    "print(\"Visualsing matrix\")\n",
    "mc_sub = mc.subsample(a_indices, b_indices)\n",
    "o_name = f\"{A_name}_to_{B_name}_connection_matrix_subbed.pdf\"\n",
    "matrix_vis(mc_sub.ab, mc_sub.ba, mc_sub.aa, mc_sub.bb, 40, o_name)\n",
    "plt.show()\n",
    "t2 = time.perf_counter() - t\n",
    "print(f\"Finished matrix vis in {t2:.2f}s\")"
   ]
  },
  {
   "cell_type": "code",
   "execution_count": null,
   "metadata": {},
   "outputs": [],
   "source": [
    "probe_stats = mc.compute_probe_stats(\n",
    "    a_indices,\n",
    "    b_indices,\n",
    ")\n",
    "\n",
    "dist = probe_stats[\"stats\"][\"out_connections_dist\"]\n",
    "print(100 * get_dist_mean(dist) / probe_stats[\"stats\"][\"num_end\"], get_dist_var(dist))\n",
    "print(100 * probe_stats[\"stats\"][\"num_senders\"] / probe_stats[\"stats\"][\"num_start\"])\n",
    "print(probe_stats[\"stats\"][\"num_start\"], probe_stats[\"stats\"][\"num_end\"])\n",
    "\n",
    "plt.plot(list(dist.keys()), list(dist.values()))"
   ]
  },
  {
   "cell_type": "code",
   "execution_count": null,
   "metadata": {},
   "outputs": [],
   "source": [
    "res = mpf_probe_connectome(\n",
    "    mc,\n",
    "    [20, 20],\n",
    "    a_indices,\n",
    "    b_indices,\n",
    "    1,\n",
    "    args_dict,\n",
    "    10,\n",
    "    0.01,\n",
    "    True,\n",
    "    False\n",
    ")\n",
    "print(res)"
   ]
  }
 ],
 "metadata": {
  "kernelspec": {
   "display_name": "Python 3.8.10 ('notebooks')",
   "language": "python",
   "name": "python3"
  },
  "language_info": {
   "codemirror_mode": {
    "name": "ipython",
    "version": 3
   },
   "file_extension": ".py",
   "mimetype": "text/x-python",
   "name": "python",
   "nbconvert_exporter": "python",
   "pygments_lexer": "ipython3",
   "version": "3.8.10"
  },
  "orig_nbformat": 4,
  "vscode": {
   "interpreter": {
    "hash": "dee386f75b2b2024fa24ea07d919084e8ac591973033df4e97cdf4d0511caeb7"
   }
  }
 },
 "nbformat": 4,
 "nbformat_minor": 2
}
