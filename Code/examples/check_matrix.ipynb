{
 "cells": [
  {
   "cell_type": "code",
   "execution_count": null,
   "metadata": {},
   "outputs": [],
   "source": [
    "from neuroconnect.matrix import load_matrix_data, print_args_dict"
   ]
  },
  {
   "cell_type": "code",
   "execution_count": null,
   "metadata": {},
   "outputs": [],
   "source": [
    "A_name = \"MOp\"\n",
    "B_name = \"SSP-ll\"\n",
    "hemisphere = \"right\"\n",
    "resource_dir = \"../resources/\""
   ]
  },
  {
   "cell_type": "code",
   "execution_count": null,
   "metadata": {},
   "outputs": [],
   "source": [
    "mc, args_dict = load_matrix_data(\n",
    "    [True]*4, A_name, B_name, hemisphere, resource_dir=resource_dir)\n",
    "print_args_dict(args_dict)\n",
    "print(mc)"
   ]
  }
 ],
 "metadata": {
  "kernelspec": {
   "display_name": "Python 3.8.10 ('notebooks')",
   "language": "python",
   "name": "python3"
  },
  "language_info": {
   "codemirror_mode": {
    "name": "ipython",
    "version": 3
   },
   "file_extension": ".py",
   "mimetype": "text/x-python",
   "name": "python",
   "nbconvert_exporter": "python",
   "pygments_lexer": "ipython3",
   "version": "3.8.10"
  },
  "orig_nbformat": 4,
  "vscode": {
   "interpreter": {
    "hash": "dee386f75b2b2024fa24ea07d919084e8ac591973033df4e97cdf4d0511caeb7"
   }
  }
 },
 "nbformat": 4,
 "nbformat_minor": 2
}
